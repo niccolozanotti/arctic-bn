{
 "cells": [
  {
   "cell_type": "markdown",
   "id": "0",
   "metadata": {},
   "source": [
    "# Data Exploration\n",
    "\n",
    "This notebook focuses on the exploration and modeling of 📄 [ERA5 Dataset – DOI: 10.24381/cds.f17050d7](https://doi.org/10.24381/cds.f17050d7) provided by the **Copernicus CDS**.\n",
    "\n",
    "We will work with **ERA5 monthly averaged reanalysis data** (1981–2010), specifically the **skin temperature** variable.  \n",
    "The goal is to explore, process and analyze monthly skin temperature anomalies from the ERA5 dataset."
   ]
  },
  {
   "cell_type": "code",
   "execution_count": null,
   "id": "1",
   "metadata": {},
   "outputs": [],
   "source": [
    "import cartopy.crs as ccrs\n",
    "import matplotlib.pyplot as plt\n",
    "import polars as pl\n",
    "import xarray as xr\n",
    "import numpy as np"
   ]
  },
  {
   "cell_type": "markdown",
   "id": "2",
   "metadata": {},
   "source": [
    "### Load and inspect the ERA5 dataset (GRIB format)"
   ]
  },
  {
   "cell_type": "markdown",
   "id": "3",
   "metadata": {},
   "source": [
    "**Dataset summary highlights**  \n",
    "- **Size & coverage**: ~1 GB of data on a 0.25° × 0.25° grid, spanning 360 months (1981-01 through 2010-12).  \n",
    "- **Coordinates**:  \n",
    "    - `time`: monthly timestamps (360)  \n",
    "    - `latitude`: 90.0 → -90.0 (721 points)  \n",
    "    - `longitude`: 0.0 → 359.75 (1440 points)  \n",
    "- **Data variable**:  \n",
    "    - `skt` in **Kelvin** (`units: K`, `long_name: Skin temperature`)  \n",
    "    - Stored as `float32`, with missing values encoded as NaN  \n",
    "- **Metadata & conventions**:  \n",
    "    - Follows **CF-1.7** conventions, produced by ECMWF (GRIB_edition 1)  \n",
    "    - Attributes such as `institution`, `history` and GRIB grid details document provenance and grid definition  \n",
    "\n",
    "- **Auxiliary coords** (`number`, `step`, `surface`, `valid_time`): GRIB-specific metadata that can be dropped for core analysis. "
   ]
  },
  {
   "cell_type": "code",
   "execution_count": null,
   "id": "4",
   "metadata": {},
   "outputs": [],
   "source": [
    "grib_path = \"../reanalysis-era5-single-levels-monthly-means.grib\"\n",
    "ds = xr.open_dataset(grib_path, engine=\"cfgrib\", decode_timedelta=False)\n",
    "print(ds)"
   ]
  },
  {
   "cell_type": "markdown",
   "id": "5",
   "metadata": {},
   "source": [
    "The GRIB attributes confirm the field is on a regular lat-lon grid with 0.25° spacing. No missing data except the standard GRIB sentinel (`≈3.4e38`) already mapped to NaN by cfgrib."
   ]
  },
  {
   "cell_type": "code",
   "execution_count": null,
   "id": "6",
   "metadata": {},
   "outputs": [],
   "source": [
    "skt = ds[\"skt\"]\n",
    "print(\"\\nVariable summary:\")\n",
    "print(skt)\n",
    "print(\"\\nVariable attributes:\")\n",
    "for k, v in skt.attrs.items():\n",
    "    print(f\"  {k}: {v}\")"
   ]
  },
  {
   "cell_type": "markdown",
   "id": "7",
   "metadata": {},
   "source": [
    "### Inspecting the Skin Temperature Field"
   ]
  },
  {
   "cell_type": "markdown",
   "id": "8",
   "metadata": {},
   "source": [
    "**Unit conversion**\n",
    "- We convert the raw skin temperature field from **Kelvin to °C** and removed the singleton GRIB coords (`number`, `step`, `surface`) for a clean 3D array.  \n",
    "- The computed range spans **−76.93 °C** (extreme polar winter values) up to **+46.06 °C** (intense summer warmth over deserts), which seems sensible"
   ]
  },
  {
   "cell_type": "code",
   "execution_count": null,
   "id": "9",
   "metadata": {},
   "outputs": [],
   "source": [
    "# Convert to °C and drop singleton coords\n",
    "skt_C = (skt - 273.15).squeeze(drop=True)\n",
    "t_min = float(skt_C.min())\n",
    "t_max = float(skt_C.max())\n",
    "\n",
    "print(f\"Skin-temperature range: {t_min:.2f} °C  -> {t_max:.2f} °C\")"
   ]
  },
  {
   "cell_type": "markdown",
   "id": "10",
   "metadata": {},
   "source": [
    "**Global descriptive statistics**  \n",
    "\n",
    "Here, `skt_C.values.ravel()` pulls out the entire 3D array of skin‐temperature values (time x lat x long) and flattens it into one continuous 1D array so that global statistics can be computed over all points in a single step.\n",
    "\n",
    "Some hints: \n",
    "- **Global mean (5.60 °C)** is lower than the **median (10.74 °C)**, indicating a distribution skewed toward colder extremes.  \n",
    "- **1st percentile (−56.55 °C)** and **99th percentile (32.67 °C)** capture the most extreme events (e.g. polar winters, desert heat waves).  "
   ]
  },
  {
   "cell_type": "code",
   "execution_count": null,
   "id": "11",
   "metadata": {},
   "outputs": [],
   "source": [
    "val = skt_C.values.ravel()  # 360 x 721 x 1440 ~ 370M points\n",
    "stats = {\n",
    "    \"mean\": float(np.nanmean(val)),\n",
    "    \"median\": float(np.nanmedian(val)),\n",
    "    \"p01\": float(np.nanpercentile(val, 1)),\n",
    "    \"p25\": float(np.nanpercentile(val, 25)),\n",
    "    \"p75\": float(np.nanpercentile(val, 75)),\n",
    "    \"p99\": float(np.nanpercentile(val, 99)),\n",
    "    \"min\": float(np.nanmin(val)),\n",
    "    \"max\": float(np.nanmax(val)),\n",
    "}\n",
    "print(\"Global statistics for 1981-2010\")\n",
    "for k, v in stats.items():\n",
    "    print(f\"{k:>6}: {v:6.2f} °C\")"
   ]
  },
  {
   "cell_type": "markdown",
   "id": "12",
   "metadata": {},
   "source": [
    "**Histogram insight:**  \n",
    "\n",
    "The global distribution of monthly skin temperature values shows a pronounced peak around **25–30 °C** (tropical and desert regions) and a secondary plateau near **0 °C** (mid latitude oceans). A long cold tail extends down to **−76 °C** (polar winters) confirming strong skewness toward lower temperatures. "
   ]
  },
  {
   "cell_type": "code",
   "execution_count": null,
   "id": "13",
   "metadata": {},
   "outputs": [],
   "source": [
    "counts, edges = np.histogram(val, bins=40)\n",
    "\n",
    "centers = 0.5 * (edges[:-1] + edges[1:])\n",
    "plt.figure(figsize=(7, 5))\n",
    "plt.bar(centers, counts, width=np.diff(edges), color=\"steelblue\", alpha=0.9)\n",
    "plt.title(\"Distribution of monthly skin-temperature (°C)\")\n",
    "plt.xlabel(\"°C\")\n",
    "plt.ylabel(\"Count\")\n",
    "plt.tight_layout()"
   ]
  },
  {
   "cell_type": "markdown",
   "id": "14",
   "metadata": {},
   "source": [
    "### Inspect a few spatial snapshots"
   ]
  },
  {
   "cell_type": "markdown",
   "id": "15",
   "metadata": {},
   "source": [
    "Now that we know the absolute range of the data, we will:\n",
    "\n",
    "1. **Inspect a few spatial snapshots** (e.g. January vs. July) to appreciate geographic contrast.\n",
    "2. **Check the global mean time series** to confirm there is no unwanted trend."
   ]
  },
  {
   "cell_type": "markdown",
   "id": "16",
   "metadata": {},
   "source": [
    "**Seasonal snapshots of skin temperature**  \n",
    "\n",
    "- **January 1990** (top): strong polar cooling in the Northern Hemisphere, with large areas below 0 °C. Mid‐latitude landmasses still show moderate winter temperatures, while tropical oceans remain above 20 °C.  \n",
    "- **July 1990** (bottom): peak summer warmth in the Northern Hemisphere, especially over the Sahara, Middle East and central Asia (> 40 °C). Southern high latitudes now display their cold season (< 0 °C) and equatorial regions stay relatively uniform (~25 °C).  \n",
    "\n",
    "\n",
    "These two maps illustrate the opposite phases of the annual cycle and **motivate the removal of the seasonal mean** when computing anomalies.  "
   ]
  },
  {
   "cell_type": "code",
   "execution_count": null,
   "id": "17",
   "metadata": {},
   "outputs": [],
   "source": [
    "for sel_date in [\"1990-01-01\", \"1990-07-01\"]:\n",
    "    fig = plt.figure(figsize=(9, 4))\n",
    "    ax = plt.axes(projection=ccrs.PlateCarree())\n",
    "\n",
    "    skt_C.sel(time=sel_date).squeeze().plot.pcolormesh(\n",
    "        ax=ax,\n",
    "        transform=ccrs.PlateCarree(),\n",
    "        cmap=\"coolwarm\",\n",
    "        vmin=-60,\n",
    "        vmax=45,\n",
    "        add_colorbar=True,\n",
    "    )\n",
    "    ax.coastlines(color=\"black\", linewidth=0.6)\n",
    "    ax.set_title(f\"Skin temperature (°C) - {sel_date[:7]}\")\n",
    "    plt.tight_layout()\n"
   ]
  },
  {
   "cell_type": "markdown",
   "id": "18",
   "metadata": {},
   "source": [
    "**Spatial variability (std) of monthly skin temperature 1981–2010**  \n",
    "\n",
    "This map shows the standard deviation of skin temperature at each grid cell over 360 months.  \n",
    "\n",
    "Here, `std_map = skt_C.std(\"time\")` computes, for each grid cell (fixed latitude & longitude), the **standard deviation** of its 360 monthly skin‐temperature values.  \n",
    "Mathematically, at each (lat, lon) point it calculates  \n",
    "$$\n",
    "\\sigma = \\sqrt{\\frac{1}{N-1}\\sum_{t=1}^{N}\\bigl(T_t - \\bar{T}\\bigr)^2},\n",
    "$$  \n",
    "where $T_t$ are the monthly temperatures from January 1981 to December 2010 and $\\bar{T}$ is their mean.  \n",
    "\n",
    "The resulting `std_map` highlights how strongly each location’s temperature fluctuates through the annual cycle and interannual variability.\n",
    "- **High σ (yellow)** in polar and continental regions indicates large seasonal swings (e.g. Arctic winters vs. summers, desert extremes).  \n",
    "- **Low σ (purple/blue)** over tropical oceans reflects minimal month to month variation due to the buffering effect of water.  \n",
    "\n",
    "Understanding this spatial pattern helps identify regions where anomalies will be most pronounced once the regular seasonal cycle is removed.  "
   ]
  },
  {
   "cell_type": "code",
   "execution_count": null,
   "id": "19",
   "metadata": {},
   "outputs": [],
   "source": [
    "std_map = skt_C.std(\"time\")\n",
    "\n",
    "plt.figure(figsize=(9, 4))\n",
    "std_map.plot.pcolormesh(cmap=\"viridis\", vmin=0, vmax=10, add_colorbar=True)\n",
    "plt.title(\"Std (monthly skin-T, 1981-2010)  [°C]\")\n",
    "plt.tight_layout()"
   ]
  },
  {
   "cell_type": "markdown",
   "id": "20",
   "metadata": {},
   "source": [
    "### Removing the Seasonal Cycle and Computing Monthly Anomalies"
   ]
  },
  {
   "cell_type": "markdown",
   "id": "21",
   "metadata": {},
   "source": [
    "**Monthly climatology (`clim`)**  \n",
    "- Dimensions: **12 months** × 721 latitudes** × 1440 longitudes, corresponding to **each calendar month’s average over 1981–2010**.  \n",
    "- Size: ~50 MB of gridded data on the native 0.25° × 0.25° ERA5 grid.  \n",
    "- Values: mean skin temperature in °C for each month (e.g. `clim.sel(month=1)` is the January climatology).  \n",
    "- Coordinates:  \n",
    "  - `month`: 1–12  \n",
    "  - `latitude`: 90.0 → -90.0  \n",
    "  - `longitude`: 0.0 → 359.75  \n",
    "  \n",
    " This `clim` array provides the baseline seasonal cycle to subtract from the raw data and compute anomalies.  "
   ]
  },
  {
   "cell_type": "code",
   "execution_count": null,
   "id": "22",
   "metadata": {},
   "outputs": [],
   "source": [
    "clim = skt_C.groupby(\"time.month\").mean(\"time\")\n",
    "print(clim)"
   ]
  },
  {
   "cell_type": "markdown",
   "id": "23",
   "metadata": {},
   "source": [
    "**Anomaly DataArray (`anom`)**  \n",
    "\n",
    "- Dimensions: **360 time steps** × **721 latitudes** × **1440 longitudes** (same grid as original), containing monthly anomalies for 1981–2010.  \n",
    "- Values: deviations in °C from each month’s 30 year mean (negative values indicate colder-than-usual months; positive values indicate warmer than usual months).  \n",
    " \n",
    "This `anom` array is now centered on zero for each calendar month, isolating the irregular (interannual) variability and ready for further analysis.  "
   ]
  },
  {
   "cell_type": "code",
   "execution_count": null,
   "id": "24",
   "metadata": {},
   "outputs": [],
   "source": [
    "anom = skt_C.groupby(\"time.month\") - clim\n",
    "print(anom)"
   ]
  },
  {
   "cell_type": "markdown",
   "id": "25",
   "metadata": {},
   "source": [
    "**Global skin‐temperature anomaly**  \n",
    "\n",
    "This map shows the deviation of surface skin‐temperature from the 1981–2010 August climatology, plotted on a Plate Carree projection with true coastlines and gridlines for geographic reference. Positive (red) and negative (blue) anomalies highlight regions warmer or cooler than usual that month.  \n",
    " \n",
    "**August 1997 was the peak of a record breaking El Niño event** and the anomaly pattern reflects its classic footprint:  \n",
    "- The pronounced warm anomaly along the equatorial Pacific (around 120° W–90° W) aligns with the Niño 3.4 region, where skin‐temperature rose by +3–4 °C.  \n",
    "- Cooling (blue) over Indonesia and northern Australia reflects suppressed convection typical of El Niño.  \n",
    "- Widespread positive anomalies across subtropical oceans and continents mirror the global warm phase of this event.  "
   ]
  },
  {
   "cell_type": "code",
   "execution_count": null,
   "id": "26",
   "metadata": {},
   "outputs": [],
   "source": [
    "fig = plt.figure(figsize=(10, 4))\n",
    "ax = plt.axes(projection=ccrs.PlateCarree())\n",
    "\n",
    "anom.sel(time=\"1997-08\").squeeze().plot.pcolormesh(\n",
    "    ax=ax,\n",
    "    transform=ccrs.PlateCarree(),\n",
    "    cmap=\"RdBu_r\",\n",
    "    vmin=-5,\n",
    "    vmax=5,\n",
    "    add_colorbar=True,\n",
    ")\n",
    "ax.coastlines(resolution=\"110m\", color=\"black\", linewidth=1.0)\n",
    "ax.set_title(\"Skin temperature anomaly (°C) – Aug 1997\", pad=12)\n",
    "\n",
    "gl = ax.gridlines(draw_labels=True, linewidth=0.3, color=\"gray\", alpha=0.5)\n",
    "gl.top_labels = False\n",
    "gl.right_labels = False\n",
    "\n",
    "plt.tight_layout()\n",
    "plt.show()"
   ]
  },
  {
   "cell_type": "markdown",
   "id": "27",
   "metadata": {},
   "source": [
    "**Histogram of skin temperature anomalies**  \n",
    "\n",
    "- We flatten the entire `anom` array (`anom.values.ravel()`) to a 1D vector of 370 million anomaly values (space x time).  \n",
    "- A NumPy histogram with 40 bins between –5 °C and +5 °C captures the full anomaly range, focusing on the most common deviations.  \n",
    "- The resulting bar chart shows a roughly Gaussian distribution centered at zero, with long tails out to ±5 °C confirming that most anomalies are small (±1–2 °C) while extreme deviations are rare.  "
   ]
  },
  {
   "cell_type": "code",
   "execution_count": null,
   "id": "28",
   "metadata": {},
   "outputs": [],
   "source": [
    "anom_vals = anom.values.ravel()\n",
    "counts, edges = np.histogram(anom_vals, bins=40, range=(-5, 5))\n",
    "centers = 0.5 * (edges[:-1] + edges[1:])\n",
    "\n",
    "plt.figure(figsize=(7, 5))\n",
    "plt.bar(centers, counts, width=np.diff(edges), color=\"tomato\", alpha=0.8)\n",
    "plt.title(\"Distribution of skin-temperature anomalies (°C)\")\n",
    "plt.xlabel(\"Anomaly (°C)\")\n",
    "plt.ylabel(\"Count\")\n",
    "plt.tight_layout()\n",
    "plt.show()\n"
   ]
  },
  {
   "cell_type": "markdown",
   "id": "29",
   "metadata": {},
   "source": [
    "**All values anomaly statistics (space x time)**  \n",
    "\n",
    "- **Minimum anomaly: −24.28 °C** - the coldest departure from the monthly norm anywhere, likely a polar winter outlier.  \n",
    "- **Median: ≈ 0 °C** — half of all anomalies are above and half below zero, confirming symmetry around the climatology.  \n",
    "- **Maximum anomaly: +18.21 °C** — the most extreme warm departure, e.g. a localized heat wave relative to the seasonal mean.  \n",
    "  \n",
    "> These statistics demonstrate that while most anomalies fall within ±1 °C, the tails extend out to ±5 °C for 1 % of cases, with rare extremes beyond ±18 °C at specific locations and times.  "
   ]
  },
  {
   "cell_type": "code",
   "execution_count": null,
   "id": "30",
   "metadata": {},
   "outputs": [],
   "source": [
    "anom_vals = anom.values.ravel()\n",
    "\n",
    "stats_all = {\n",
    "    \"min\": float(np.nanmin(anom_vals)),\n",
    "    \"p01\": float(np.nanpercentile(anom_vals, 1)),\n",
    "    \"p25\": float(np.nanpercentile(anom_vals, 25)),\n",
    "    \"median\": float(np.nanpercentile(anom_vals, 50)),\n",
    "    \"p75\": float(np.nanpercentile(anom_vals, 75)),\n",
    "    \"p99\": float(np.nanpercentile(anom_vals, 99)),\n",
    "    \"max\": float(np.nanmax(anom_vals)),\n",
    "}\n",
    "\n",
    "print(\"All values anomaly stats (°C) – 1981-2010\")\n",
    "for k, v in stats_all.items():\n",
    "    print(f\"{k:>6}: {v:+.2f}\")"
   ]
  },
  {
   "cell_type": "markdown",
   "id": "31",
   "metadata": {},
   "source": [
    "This time series shows the **global mean anomaly**, meaning that for each month we **averaged** the anomaly values over **every latitude and longitude grid cell**. It represents the planet wide departure from the 1981–2010 monthly climatology.  \n",
    "Averages the anomaly field over all latitudes and longitudes, collapsing the 3D array into a single number (the global mean anomaly).\n",
    "\n",
    "Key features we can observe:\n",
    "\n",
    "- Peaks around late 1997 early 1998, corresponding to the strong El Niño event.\n",
    "- Troughs during La Niña phases (e.g. 1984–85, 1999–2000).\n",
    "- A slight upward drift over the three decades, reflecting the impact of global warming on the global mean anomaly.\n",
    "\n",
    "This series highlights both interannual variability (ENSO cycles) and any longer term trends in global skin‐temperature departures from the seasonal norm.\n"
   ]
  },
  {
   "cell_type": "code",
   "execution_count": null,
   "id": "32",
   "metadata": {},
   "outputs": [],
   "source": [
    "plt.figure(figsize=(12, 4))\n",
    "(anom.mean(dim=[\"latitude\", \"longitude\"])).plot()\n",
    "plt.title(\"Global mean skin‐temperature anomaly (°C) – 1981–2010\")\n",
    "plt.ylabel(\"Anomaly (°C)\")\n",
    "plt.xlabel(\"Time\")\n",
    "plt.grid(alpha=0.3)\n",
    "plt.tight_layout()\n",
    "plt.show()"
   ]
  },
  {
   "cell_type": "markdown",
   "id": "33",
   "metadata": {},
   "source": [
    "**Global mean anomaly statistics averaged over the entire globe (1981–2010)**  \n",
    "  \n",
    "These values show that global‐mean anomalies remain small (within ±1 °C), reflecting how regional extremes are dampened when averaged planet wide.  "
   ]
  },
  {
   "cell_type": "code",
   "execution_count": null,
   "id": "34",
   "metadata": {},
   "outputs": [],
   "source": [
    "gma = anom.mean(dim=[\"latitude\", \"longitude\"])\n",
    "\n",
    "stats = {\n",
    "    \"min\": float(gma.min()),\n",
    "    \"p01\": float(gma.quantile(0.01)),\n",
    "    \"p25\": float(gma.quantile(0.25)),\n",
    "    \"median\": float(gma.quantile(0.50)),\n",
    "    \"p75\": float(gma.quantile(0.75)),\n",
    "    \"p99\": float(gma.quantile(0.99)),\n",
    "    \"max\": float(gma.max()),\n",
    "}\n",
    "\n",
    "print(\"Global mean anomaly (°C) - 1981-2010 statistics\")\n",
    "for k, v in stats.items():\n",
    "    print(f\"{k:>6}: {v:+.2f}\")"
   ]
  }
 ],
 "metadata": {
  "kernelspec": {
   "display_name": ".venv",
   "language": "python",
   "name": "python3"
  },
  "language_info": {
   "codemirror_mode": {
    "name": "ipython"
   },
   "file_extension": ".py",
   "mimetype": "text/x-python",
   "name": "python",
   "nbconvert_exporter": "python"
  }
 },
 "nbformat": 4,
 "nbformat_minor": 5
}
